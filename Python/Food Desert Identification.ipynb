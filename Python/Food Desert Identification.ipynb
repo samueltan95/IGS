{
 "cells": [
  {
   "cell_type": "code",
   "execution_count": 1,
   "id": "2d6609f8",
   "metadata": {},
   "outputs": [],
   "source": [
    "### import shapely                 #needed to set geopandas geometry \n",
    "from shapely.wkt import loads  #needed to set geopandas geometry\n",
    "import pandas as pd            #for DataFrame and analysis\n",
    "import numpy as np\n",
    "import geopandas as gpd        #for mapping and spatial aggregation\n",
    "import matplotlib.pyplot as plt  #use matplotlib to modify the plots (e.g. make them larger) \n",
    "import seaborn as sb             #for data viz\n",
    "import palettable.colorbrewer.sequential as pcs #for choropleth maps\n",
    "import libpysal as lps\n",
    "import statsmodels.formula.api as smf  #for regression\n",
    "import scipy.stats as ss \n",
    "import pysal as ps\n",
    "from pysal.model import spreg\n",
    "from spreg import ols\n",
    "from spreg import ML_Error\n",
    "from spreg import ML_Lag\n",
    "import os\n",
    "import urllib\n",
    "import zipfile\n",
    "import sys\n",
    "from libpysal.weights import Queen, Rook\n",
    "import pysal.viz as viz\n",
    "%matplotlib inline\n",
    "import warnings\n",
    "warnings.simplefilter('ignore')\n",
    "import osmnx as ox\n",
    "ox.config(log_file=True, log_console=True, use_cache=True)\n",
    "import networkx as nx"
   ]
  },
  {
   "cell_type": "code",
   "execution_count": 2,
   "id": "0f76bf3b",
   "metadata": {},
   "outputs": [],
   "source": [
    "df = pd.read_csv(\"C:/Users/samue/OneDrive - King's College London/Desktop/KCL Y3/Dissertation/1 Datasets/Python/Master (LSOA).csv\", encoding= \"unicode_escape\") "
   ]
  },
  {
   "cell_type": "code",
   "execution_count": 3,
   "id": "28c20712",
   "metadata": {},
   "outputs": [],
   "source": [
    "gdf = gpd.GeoDataFrame(df)  #geopandas\n",
    "gdf['geometry'] = gdf['geometry'].apply(lambda x: loads(x))  #from shapely\n",
    "gdf = gdf.set_geometry('geometry')"
   ]
  },
  {
   "cell_type": "code",
   "execution_count": 4,
   "id": "0b4f44aa",
   "metadata": {},
   "outputs": [
    {
     "data": {
      "text/plain": [
       "count     4835.000000\n",
       "mean      4668.895924\n",
       "std       1596.827486\n",
       "min       1317.633394\n",
       "25%       3493.654282\n",
       "50%       4339.082733\n",
       "75%       5537.487352\n",
       "max      13041.712640\n",
       "Name: proximity, dtype: float64"
      ]
     },
     "execution_count": 4,
     "metadata": {},
     "output_type": "execute_result"
    }
   ],
   "source": [
    "gdf['proximity'].describe()"
   ]
  },
  {
   "cell_type": "code",
   "execution_count": 5,
   "id": "2b1bf6c8",
   "metadata": {},
   "outputs": [
    {
     "data": {
      "text/plain": [
       "6883.036009800002"
      ]
     },
     "execution_count": 5,
     "metadata": {},
     "output_type": "execute_result"
    }
   ],
   "source": [
    "gdf['proximity'].quantile(0.9)"
   ]
  },
  {
   "cell_type": "code",
   "execution_count": 6,
   "id": "9f1a3ce5",
   "metadata": {},
   "outputs": [
    {
     "data": {
      "text/plain": [
       "count    4835.000000\n",
       "mean        0.332989\n",
       "std         0.692158\n",
       "min         0.000000\n",
       "25%         0.000000\n",
       "50%         0.000000\n",
       "75%         0.000000\n",
       "max         5.000000\n",
       "Name: variety, dtype: float64"
      ]
     },
     "execution_count": 6,
     "metadata": {},
     "output_type": "execute_result"
    }
   ],
   "source": [
    "gdf['variety'].describe()"
   ]
  },
  {
   "cell_type": "code",
   "execution_count": 7,
   "id": "25b43905",
   "metadata": {},
   "outputs": [
    {
     "data": {
      "text/plain": [
       "0.0"
      ]
     },
     "execution_count": 7,
     "metadata": {},
     "output_type": "execute_result"
    }
   ],
   "source": [
    "gdf['variety'].quantile(0.1)"
   ]
  },
  {
   "cell_type": "code",
   "execution_count": 8,
   "id": "74729784",
   "metadata": {},
   "outputs": [
    {
     "data": {
      "text/plain": [
       "count    4835.000000\n",
       "mean        0.347673\n",
       "std         0.797773\n",
       "min         0.000000\n",
       "25%         0.000000\n",
       "50%         0.000000\n",
       "75%         0.000000\n",
       "max        23.000000\n",
       "Name: density, dtype: float64"
      ]
     },
     "execution_count": 8,
     "metadata": {},
     "output_type": "execute_result"
    }
   ],
   "source": [
    "gdf['density'].describe()"
   ]
  },
  {
   "cell_type": "code",
   "execution_count": 9,
   "id": "6fa43d24",
   "metadata": {},
   "outputs": [
    {
     "data": {
      "text/plain": [
       "0.0"
      ]
     },
     "execution_count": 9,
     "metadata": {},
     "output_type": "execute_result"
    }
   ],
   "source": [
    "gdf['density'].quantile(0.1)"
   ]
  },
  {
   "cell_type": "code",
   "execution_count": 10,
   "id": "3403e0a2",
   "metadata": {},
   "outputs": [],
   "source": [
    "#Identifying the bottom 10% performing LSOAs for all 3 dimensions of accessibility to identify Food Deserts"
   ]
  },
  {
   "cell_type": "code",
   "execution_count": 11,
   "id": "d82ebe7d",
   "metadata": {},
   "outputs": [
    {
     "data": {
      "text/plain": [
       "5537.487352"
      ]
     },
     "execution_count": 11,
     "metadata": {},
     "output_type": "execute_result"
    }
   ],
   "source": [
    "gdf['proximity'].quantile(0.75)"
   ]
  },
  {
   "cell_type": "code",
   "execution_count": 12,
   "id": "2b8985c8",
   "metadata": {},
   "outputs": [],
   "source": [
    "gdf25 = gdf[(gdf['proximity'] >= 5537.487352) & (gdf['variety'] <= 0.00) & (gdf['density'] <= 0.00) ]"
   ]
  },
  {
   "cell_type": "code",
   "execution_count": 13,
   "id": "da1581bd",
   "metadata": {},
   "outputs": [
    {
     "data": {
      "text/html": [
       "<div>\n",
       "<style scoped>\n",
       "    .dataframe tbody tr th:only-of-type {\n",
       "        vertical-align: middle;\n",
       "    }\n",
       "\n",
       "    .dataframe tbody tr th {\n",
       "        vertical-align: top;\n",
       "    }\n",
       "\n",
       "    .dataframe thead th {\n",
       "        text-align: right;\n",
       "    }\n",
       "</style>\n",
       "<table border=\"1\" class=\"dataframe\">\n",
       "  <thead>\n",
       "    <tr style=\"text-align: right;\">\n",
       "      <th></th>\n",
       "      <th>X</th>\n",
       "      <th>Y</th>\n",
       "      <th>&gt;65</th>\n",
       "      <th>POPDEN (km2)</th>\n",
       "      <th>AREA (m^2)</th>\n",
       "      <th>EthWhite</th>\n",
       "      <th>EthMixed</th>\n",
       "      <th>EthAsian</th>\n",
       "      <th>EthBlack</th>\n",
       "      <th>UnE</th>\n",
       "      <th>...</th>\n",
       "      <th>Amaz_Delivery</th>\n",
       "      <th>Wait_Delivery</th>\n",
       "      <th>Ocad_Delivery</th>\n",
       "      <th>Total Del</th>\n",
       "      <th>proximity</th>\n",
       "      <th>nearest budget</th>\n",
       "      <th>nearest mid</th>\n",
       "      <th>nearest premium</th>\n",
       "      <th>variety</th>\n",
       "      <th>density</th>\n",
       "    </tr>\n",
       "  </thead>\n",
       "  <tbody>\n",
       "    <tr>\n",
       "      <th>count</th>\n",
       "      <td>971.000000</td>\n",
       "      <td>971.000000</td>\n",
       "      <td>971.000000</td>\n",
       "      <td>971.000000</td>\n",
       "      <td>9.710000e+02</td>\n",
       "      <td>971.000000</td>\n",
       "      <td>971.000000</td>\n",
       "      <td>971.000000</td>\n",
       "      <td>971.000000</td>\n",
       "      <td>971.000000</td>\n",
       "      <td>...</td>\n",
       "      <td>971.000000</td>\n",
       "      <td>971.0</td>\n",
       "      <td>971.000000</td>\n",
       "      <td>971.000000</td>\n",
       "      <td>971.000000</td>\n",
       "      <td>971.000000</td>\n",
       "      <td>971.000000</td>\n",
       "      <td>971.000000</td>\n",
       "      <td>971.0</td>\n",
       "      <td>971.0</td>\n",
       "    </tr>\n",
       "    <tr>\n",
       "      <th>mean</th>\n",
       "      <td>-0.148502</td>\n",
       "      <td>51.497449</td>\n",
       "      <td>260.266735</td>\n",
       "      <td>0.649256</td>\n",
       "      <td>6.103937e+05</td>\n",
       "      <td>0.659910</td>\n",
       "      <td>0.043231</td>\n",
       "      <td>0.121697</td>\n",
       "      <td>0.164763</td>\n",
       "      <td>0.069270</td>\n",
       "      <td>...</td>\n",
       "      <td>0.497425</td>\n",
       "      <td>1.0</td>\n",
       "      <td>0.996910</td>\n",
       "      <td>7.477858</td>\n",
       "      <td>6927.036342</td>\n",
       "      <td>2447.262711</td>\n",
       "      <td>1518.102470</td>\n",
       "      <td>2031.216773</td>\n",
       "      <td>0.0</td>\n",
       "      <td>0.0</td>\n",
       "    </tr>\n",
       "    <tr>\n",
       "      <th>std</th>\n",
       "      <td>0.201681</td>\n",
       "      <td>0.093108</td>\n",
       "      <td>89.155106</td>\n",
       "      <td>0.432706</td>\n",
       "      <td>1.242725e+06</td>\n",
       "      <td>0.207109</td>\n",
       "      <td>0.018546</td>\n",
       "      <td>0.116928</td>\n",
       "      <td>0.158409</td>\n",
       "      <td>0.031645</td>\n",
       "      <td>...</td>\n",
       "      <td>0.500251</td>\n",
       "      <td>0.0</td>\n",
       "      <td>0.055527</td>\n",
       "      <td>0.514004</td>\n",
       "      <td>1216.529984</td>\n",
       "      <td>1600.717055</td>\n",
       "      <td>1077.628817</td>\n",
       "      <td>1378.536201</td>\n",
       "      <td>0.0</td>\n",
       "      <td>0.0</td>\n",
       "    </tr>\n",
       "    <tr>\n",
       "      <th>min</th>\n",
       "      <td>-0.489280</td>\n",
       "      <td>51.293820</td>\n",
       "      <td>46.000000</td>\n",
       "      <td>0.012263</td>\n",
       "      <td>5.540000e+04</td>\n",
       "      <td>0.035438</td>\n",
       "      <td>0.006415</td>\n",
       "      <td>0.001365</td>\n",
       "      <td>0.007519</td>\n",
       "      <td>0.016000</td>\n",
       "      <td>...</td>\n",
       "      <td>0.000000</td>\n",
       "      <td>1.0</td>\n",
       "      <td>0.000000</td>\n",
       "      <td>6.000000</td>\n",
       "      <td>5537.980971</td>\n",
       "      <td>107.415000</td>\n",
       "      <td>127.197000</td>\n",
       "      <td>0.000000</td>\n",
       "      <td>0.0</td>\n",
       "      <td>0.0</td>\n",
       "    </tr>\n",
       "    <tr>\n",
       "      <th>25%</th>\n",
       "      <td>-0.325660</td>\n",
       "      <td>51.420855</td>\n",
       "      <td>197.000000</td>\n",
       "      <td>0.337839</td>\n",
       "      <td>2.073500e+05</td>\n",
       "      <td>0.521340</td>\n",
       "      <td>0.029869</td>\n",
       "      <td>0.037884</td>\n",
       "      <td>0.057388</td>\n",
       "      <td>0.044000</td>\n",
       "      <td>...</td>\n",
       "      <td>0.000000</td>\n",
       "      <td>1.0</td>\n",
       "      <td>1.000000</td>\n",
       "      <td>7.000000</td>\n",
       "      <td>5977.616416</td>\n",
       "      <td>1287.983000</td>\n",
       "      <td>871.781000</td>\n",
       "      <td>1029.353000</td>\n",
       "      <td>0.0</td>\n",
       "      <td>0.0</td>\n",
       "    </tr>\n",
       "    <tr>\n",
       "      <th>50%</th>\n",
       "      <td>-0.140080</td>\n",
       "      <td>51.500160</td>\n",
       "      <td>249.000000</td>\n",
       "      <td>0.576909</td>\n",
       "      <td>3.023000e+05</td>\n",
       "      <td>0.702304</td>\n",
       "      <td>0.041697</td>\n",
       "      <td>0.079863</td>\n",
       "      <td>0.112296</td>\n",
       "      <td>0.064000</td>\n",
       "      <td>...</td>\n",
       "      <td>0.000000</td>\n",
       "      <td>1.0</td>\n",
       "      <td>1.000000</td>\n",
       "      <td>7.000000</td>\n",
       "      <td>6573.999537</td>\n",
       "      <td>2058.586000</td>\n",
       "      <td>1291.317000</td>\n",
       "      <td>1603.921000</td>\n",
       "      <td>0.0</td>\n",
       "      <td>0.0</td>\n",
       "    </tr>\n",
       "    <tr>\n",
       "      <th>75%</th>\n",
       "      <td>0.019411</td>\n",
       "      <td>51.572300</td>\n",
       "      <td>314.000000</td>\n",
       "      <td>0.865407</td>\n",
       "      <td>5.003500e+05</td>\n",
       "      <td>0.825776</td>\n",
       "      <td>0.053937</td>\n",
       "      <td>0.166553</td>\n",
       "      <td>0.212441</td>\n",
       "      <td>0.089000</td>\n",
       "      <td>...</td>\n",
       "      <td>1.000000</td>\n",
       "      <td>1.0</td>\n",
       "      <td>1.000000</td>\n",
       "      <td>8.000000</td>\n",
       "      <td>7588.389049</td>\n",
       "      <td>3168.496500</td>\n",
       "      <td>1819.138500</td>\n",
       "      <td>2679.074500</td>\n",
       "      <td>0.0</td>\n",
       "      <td>0.0</td>\n",
       "    </tr>\n",
       "    <tr>\n",
       "      <th>max</th>\n",
       "      <td>0.302259</td>\n",
       "      <td>51.681000</td>\n",
       "      <td>756.000000</td>\n",
       "      <td>2.925993</td>\n",
       "      <td>1.579730e+07</td>\n",
       "      <td>0.981591</td>\n",
       "      <td>0.113693</td>\n",
       "      <td>0.967918</td>\n",
       "      <td>0.868955</td>\n",
       "      <td>0.183000</td>\n",
       "      <td>...</td>\n",
       "      <td>1.000000</td>\n",
       "      <td>1.0</td>\n",
       "      <td>1.000000</td>\n",
       "      <td>8.000000</td>\n",
       "      <td>13041.712640</td>\n",
       "      <td>9640.216000</td>\n",
       "      <td>9614.616000</td>\n",
       "      <td>6995.640000</td>\n",
       "      <td>0.0</td>\n",
       "      <td>0.0</td>\n",
       "    </tr>\n",
       "  </tbody>\n",
       "</table>\n",
       "<p>8 rows × 44 columns</p>\n",
       "</div>"
      ],
      "text/plain": [
       "                X           Y         >65  POPDEN (km2)    AREA (m^2)  \\\n",
       "count  971.000000  971.000000  971.000000    971.000000  9.710000e+02   \n",
       "mean    -0.148502   51.497449  260.266735      0.649256  6.103937e+05   \n",
       "std      0.201681    0.093108   89.155106      0.432706  1.242725e+06   \n",
       "min     -0.489280   51.293820   46.000000      0.012263  5.540000e+04   \n",
       "25%     -0.325660   51.420855  197.000000      0.337839  2.073500e+05   \n",
       "50%     -0.140080   51.500160  249.000000      0.576909  3.023000e+05   \n",
       "75%      0.019411   51.572300  314.000000      0.865407  5.003500e+05   \n",
       "max      0.302259   51.681000  756.000000      2.925993  1.579730e+07   \n",
       "\n",
       "         EthWhite    EthMixed    EthAsian    EthBlack         UnE  ...  \\\n",
       "count  971.000000  971.000000  971.000000  971.000000  971.000000  ...   \n",
       "mean     0.659910    0.043231    0.121697    0.164763    0.069270  ...   \n",
       "std      0.207109    0.018546    0.116928    0.158409    0.031645  ...   \n",
       "min      0.035438    0.006415    0.001365    0.007519    0.016000  ...   \n",
       "25%      0.521340    0.029869    0.037884    0.057388    0.044000  ...   \n",
       "50%      0.702304    0.041697    0.079863    0.112296    0.064000  ...   \n",
       "75%      0.825776    0.053937    0.166553    0.212441    0.089000  ...   \n",
       "max      0.981591    0.113693    0.967918    0.868955    0.183000  ...   \n",
       "\n",
       "       Amaz_Delivery  Wait_Delivery  Ocad_Delivery   Total Del     proximity  \\\n",
       "count     971.000000          971.0     971.000000  971.000000    971.000000   \n",
       "mean        0.497425            1.0       0.996910    7.477858   6927.036342   \n",
       "std         0.500251            0.0       0.055527    0.514004   1216.529984   \n",
       "min         0.000000            1.0       0.000000    6.000000   5537.980971   \n",
       "25%         0.000000            1.0       1.000000    7.000000   5977.616416   \n",
       "50%         0.000000            1.0       1.000000    7.000000   6573.999537   \n",
       "75%         1.000000            1.0       1.000000    8.000000   7588.389049   \n",
       "max         1.000000            1.0       1.000000    8.000000  13041.712640   \n",
       "\n",
       "       nearest budget  nearest mid  nearest premium  variety  density  \n",
       "count      971.000000   971.000000       971.000000    971.0    971.0  \n",
       "mean      2447.262711  1518.102470      2031.216773      0.0      0.0  \n",
       "std       1600.717055  1077.628817      1378.536201      0.0      0.0  \n",
       "min        107.415000   127.197000         0.000000      0.0      0.0  \n",
       "25%       1287.983000   871.781000      1029.353000      0.0      0.0  \n",
       "50%       2058.586000  1291.317000      1603.921000      0.0      0.0  \n",
       "75%       3168.496500  1819.138500      2679.074500      0.0      0.0  \n",
       "max       9640.216000  9614.616000      6995.640000      0.0      0.0  \n",
       "\n",
       "[8 rows x 44 columns]"
      ]
     },
     "execution_count": 13,
     "metadata": {},
     "output_type": "execute_result"
    }
   ],
   "source": [
    "gdf25.describe()"
   ]
  },
  {
   "cell_type": "code",
   "execution_count": 14,
   "id": "772f1168",
   "metadata": {},
   "outputs": [],
   "source": [
    "gdf25.to_csv(r'gdf25.csv', index=False)"
   ]
  },
  {
   "cell_type": "code",
   "execution_count": 15,
   "id": "73cf9f57",
   "metadata": {},
   "outputs": [
    {
     "data": {
      "text/plain": [
       "<AxesSubplot:>"
      ]
     },
     "execution_count": 15,
     "metadata": {},
     "output_type": "execute_result"
    },
    {
     "data": {
      "image/png": "[encoded data removed]",
      "text/plain": [
       "<Figure size 432x288 with 1 Axes>"
      ]
     },
     "metadata": {
      "needs_background": "light"
     },
     "output_type": "display_data"
    }
   ],
   "source": [
    "gdf25.plot()"
   ]
  },
  {
   "cell_type": "code",
   "execution_count": 16,
   "id": "36be5a0d",
   "metadata": {},
   "outputs": [],
   "source": [
    "gdf10 = gdf[(gdf['proximity'] >= 6883.036009800002) & (gdf['variety'] <= 0.00) & (gdf['density'] <= 0.00) ]"
   ]
  },
  {
   "cell_type": "code",
   "execution_count": 17,
   "id": "d94e8df1",
   "metadata": {},
   "outputs": [
    {
     "data": {
      "text/html": [
       "<div>\n",
       "<style scoped>\n",
       "    .dataframe tbody tr th:only-of-type {\n",
       "        vertical-align: middle;\n",
       "    }\n",
       "\n",
       "    .dataframe tbody tr th {\n",
       "        vertical-align: top;\n",
       "    }\n",
       "\n",
       "    .dataframe thead th {\n",
       "        text-align: right;\n",
       "    }\n",
       "</style>\n",
       "<table border=\"1\" class=\"dataframe\">\n",
       "  <thead>\n",
       "    <tr style=\"text-align: right;\">\n",
       "      <th></th>\n",
       "      <th>X</th>\n",
       "      <th>Y</th>\n",
       "      <th>&gt;65</th>\n",
       "      <th>POPDEN (km2)</th>\n",
       "      <th>AREA (m^2)</th>\n",
       "      <th>EthWhite</th>\n",
       "      <th>EthMixed</th>\n",
       "      <th>EthAsian</th>\n",
       "      <th>EthBlack</th>\n",
       "      <th>UnE</th>\n",
       "      <th>...</th>\n",
       "      <th>Amaz_Delivery</th>\n",
       "      <th>Wait_Delivery</th>\n",
       "      <th>Ocad_Delivery</th>\n",
       "      <th>Total Del</th>\n",
       "      <th>proximity</th>\n",
       "      <th>nearest budget</th>\n",
       "      <th>nearest mid</th>\n",
       "      <th>nearest premium</th>\n",
       "      <th>variety</th>\n",
       "      <th>density</th>\n",
       "    </tr>\n",
       "  </thead>\n",
       "  <tbody>\n",
       "    <tr>\n",
       "      <th>count</th>\n",
       "      <td>393.000000</td>\n",
       "      <td>393.000000</td>\n",
       "      <td>393.000000</td>\n",
       "      <td>393.000000</td>\n",
       "      <td>3.930000e+02</td>\n",
       "      <td>393.000000</td>\n",
       "      <td>393.000000</td>\n",
       "      <td>393.000000</td>\n",
       "      <td>393.000000</td>\n",
       "      <td>393.000000</td>\n",
       "      <td>...</td>\n",
       "      <td>393.000000</td>\n",
       "      <td>393.0</td>\n",
       "      <td>393.0</td>\n",
       "      <td>393.000000</td>\n",
       "      <td>393.000000</td>\n",
       "      <td>393.000000</td>\n",
       "      <td>393.000000</td>\n",
       "      <td>393.000000</td>\n",
       "      <td>393.0</td>\n",
       "      <td>393.0</td>\n",
       "    </tr>\n",
       "    <tr>\n",
       "      <th>mean</th>\n",
       "      <td>-0.171220</td>\n",
       "      <td>51.475040</td>\n",
       "      <td>259.557252</td>\n",
       "      <td>0.559647</td>\n",
       "      <td>7.547702e+05</td>\n",
       "      <td>0.691313</td>\n",
       "      <td>0.040720</td>\n",
       "      <td>0.114417</td>\n",
       "      <td>0.146466</td>\n",
       "      <td>0.069567</td>\n",
       "      <td>...</td>\n",
       "      <td>0.440204</td>\n",
       "      <td>1.0</td>\n",
       "      <td>1.0</td>\n",
       "      <td>7.437659</td>\n",
       "      <td>8113.717782</td>\n",
       "      <td>2854.258720</td>\n",
       "      <td>1763.728036</td>\n",
       "      <td>2305.045751</td>\n",
       "      <td>0.0</td>\n",
       "      <td>0.0</td>\n",
       "    </tr>\n",
       "    <tr>\n",
       "      <th>std</th>\n",
       "      <td>0.214988</td>\n",
       "      <td>0.098251</td>\n",
       "      <td>86.028783</td>\n",
       "      <td>0.374230</td>\n",
       "      <td>1.530357e+06</td>\n",
       "      <td>0.194806</td>\n",
       "      <td>0.016996</td>\n",
       "      <td>0.119982</td>\n",
       "      <td>0.144079</td>\n",
       "      <td>0.032355</td>\n",
       "      <td>...</td>\n",
       "      <td>0.497044</td>\n",
       "      <td>0.0</td>\n",
       "      <td>0.0</td>\n",
       "      <td>0.501840</td>\n",
       "      <td>1039.098673</td>\n",
       "      <td>1974.964322</td>\n",
       "      <td>1428.182787</td>\n",
       "      <td>1628.640810</td>\n",
       "      <td>0.0</td>\n",
       "      <td>0.0</td>\n",
       "    </tr>\n",
       "    <tr>\n",
       "      <th>min</th>\n",
       "      <td>-0.489280</td>\n",
       "      <td>51.293820</td>\n",
       "      <td>97.000000</td>\n",
       "      <td>0.014534</td>\n",
       "      <td>7.210000e+04</td>\n",
       "      <td>0.068643</td>\n",
       "      <td>0.006415</td>\n",
       "      <td>0.001365</td>\n",
       "      <td>0.008892</td>\n",
       "      <td>0.019000</td>\n",
       "      <td>...</td>\n",
       "      <td>0.000000</td>\n",
       "      <td>1.0</td>\n",
       "      <td>1.0</td>\n",
       "      <td>6.000000</td>\n",
       "      <td>6884.793289</td>\n",
       "      <td>310.603000</td>\n",
       "      <td>219.999000</td>\n",
       "      <td>192.423000</td>\n",
       "      <td>0.0</td>\n",
       "      <td>0.0</td>\n",
       "    </tr>\n",
       "    <tr>\n",
       "      <th>25%</th>\n",
       "      <td>-0.396530</td>\n",
       "      <td>51.400070</td>\n",
       "      <td>197.000000</td>\n",
       "      <td>0.287510</td>\n",
       "      <td>2.274000e+05</td>\n",
       "      <td>0.587198</td>\n",
       "      <td>0.028913</td>\n",
       "      <td>0.034812</td>\n",
       "      <td>0.050499</td>\n",
       "      <td>0.045000</td>\n",
       "      <td>...</td>\n",
       "      <td>0.000000</td>\n",
       "      <td>1.0</td>\n",
       "      <td>1.0</td>\n",
       "      <td>7.000000</td>\n",
       "      <td>7301.761829</td>\n",
       "      <td>1356.032000</td>\n",
       "      <td>912.686000</td>\n",
       "      <td>1037.120000</td>\n",
       "      <td>0.0</td>\n",
       "      <td>0.0</td>\n",
       "    </tr>\n",
       "    <tr>\n",
       "      <th>50%</th>\n",
       "      <td>-0.155460</td>\n",
       "      <td>51.487450</td>\n",
       "      <td>245.000000</td>\n",
       "      <td>0.499841</td>\n",
       "      <td>3.388000e+05</td>\n",
       "      <td>0.741846</td>\n",
       "      <td>0.040268</td>\n",
       "      <td>0.074403</td>\n",
       "      <td>0.093590</td>\n",
       "      <td>0.062000</td>\n",
       "      <td>...</td>\n",
       "      <td>0.000000</td>\n",
       "      <td>1.0</td>\n",
       "      <td>1.0</td>\n",
       "      <td>7.000000</td>\n",
       "      <td>7940.718157</td>\n",
       "      <td>2285.928000</td>\n",
       "      <td>1381.275000</td>\n",
       "      <td>1742.215000</td>\n",
       "      <td>0.0</td>\n",
       "      <td>0.0</td>\n",
       "    </tr>\n",
       "    <tr>\n",
       "      <th>75%</th>\n",
       "      <td>0.033934</td>\n",
       "      <td>51.533150</td>\n",
       "      <td>314.000000</td>\n",
       "      <td>0.749643</td>\n",
       "      <td>5.983000e+05</td>\n",
       "      <td>0.835583</td>\n",
       "      <td>0.050477</td>\n",
       "      <td>0.146075</td>\n",
       "      <td>0.190645</td>\n",
       "      <td>0.090000</td>\n",
       "      <td>...</td>\n",
       "      <td>1.000000</td>\n",
       "      <td>1.0</td>\n",
       "      <td>1.0</td>\n",
       "      <td>8.000000</td>\n",
       "      <td>8612.832197</td>\n",
       "      <td>3660.837000</td>\n",
       "      <td>2021.813000</td>\n",
       "      <td>3156.599000</td>\n",
       "      <td>0.0</td>\n",
       "      <td>0.0</td>\n",
       "    </tr>\n",
       "    <tr>\n",
       "      <th>max</th>\n",
       "      <td>0.280596</td>\n",
       "      <td>51.678740</td>\n",
       "      <td>531.000000</td>\n",
       "      <td>2.341193</td>\n",
       "      <td>1.579730e+07</td>\n",
       "      <td>0.981591</td>\n",
       "      <td>0.110590</td>\n",
       "      <td>0.967918</td>\n",
       "      <td>0.749495</td>\n",
       "      <td>0.183000</td>\n",
       "      <td>...</td>\n",
       "      <td>1.000000</td>\n",
       "      <td>1.0</td>\n",
       "      <td>1.0</td>\n",
       "      <td>8.000000</td>\n",
       "      <td>13041.712640</td>\n",
       "      <td>9640.216000</td>\n",
       "      <td>9614.616000</td>\n",
       "      <td>6995.640000</td>\n",
       "      <td>0.0</td>\n",
       "      <td>0.0</td>\n",
       "    </tr>\n",
       "  </tbody>\n",
       "</table>\n",
       "<p>8 rows × 44 columns</p>\n",
       "</div>"
      ],
      "text/plain": [
       "                X           Y         >65  POPDEN (km2)    AREA (m^2)  \\\n",
       "count  393.000000  393.000000  393.000000    393.000000  3.930000e+02   \n",
       "mean    -0.171220   51.475040  259.557252      0.559647  7.547702e+05   \n",
       "std      0.214988    0.098251   86.028783      0.374230  1.530357e+06   \n",
       "min     -0.489280   51.293820   97.000000      0.014534  7.210000e+04   \n",
       "25%     -0.396530   51.400070  197.000000      0.287510  2.274000e+05   \n",
       "50%     -0.155460   51.487450  245.000000      0.499841  3.388000e+05   \n",
       "75%      0.033934   51.533150  314.000000      0.749643  5.983000e+05   \n",
       "max      0.280596   51.678740  531.000000      2.341193  1.579730e+07   \n",
       "\n",
       "         EthWhite    EthMixed    EthAsian    EthBlack         UnE  ...  \\\n",
       "count  393.000000  393.000000  393.000000  393.000000  393.000000  ...   \n",
       "mean     0.691313    0.040720    0.114417    0.146466    0.069567  ...   \n",
       "std      0.194806    0.016996    0.119982    0.144079    0.032355  ...   \n",
       "min      0.068643    0.006415    0.001365    0.008892    0.019000  ...   \n",
       "25%      0.587198    0.028913    0.034812    0.050499    0.045000  ...   \n",
       "50%      0.741846    0.040268    0.074403    0.093590    0.062000  ...   \n",
       "75%      0.835583    0.050477    0.146075    0.190645    0.090000  ...   \n",
       "max      0.981591    0.110590    0.967918    0.749495    0.183000  ...   \n",
       "\n",
       "       Amaz_Delivery  Wait_Delivery  Ocad_Delivery   Total Del     proximity  \\\n",
       "count     393.000000          393.0          393.0  393.000000    393.000000   \n",
       "mean        0.440204            1.0            1.0    7.437659   8113.717782   \n",
       "std         0.497044            0.0            0.0    0.501840   1039.098673   \n",
       "min         0.000000            1.0            1.0    6.000000   6884.793289   \n",
       "25%         0.000000            1.0            1.0    7.000000   7301.761829   \n",
       "50%         0.000000            1.0            1.0    7.000000   7940.718157   \n",
       "75%         1.000000            1.0            1.0    8.000000   8612.832197   \n",
       "max         1.000000            1.0            1.0    8.000000  13041.712640   \n",
       "\n",
       "       nearest budget  nearest mid  nearest premium  variety  density  \n",
       "count      393.000000   393.000000       393.000000    393.0    393.0  \n",
       "mean      2854.258720  1763.728036      2305.045751      0.0      0.0  \n",
       "std       1974.964322  1428.182787      1628.640810      0.0      0.0  \n",
       "min        310.603000   219.999000       192.423000      0.0      0.0  \n",
       "25%       1356.032000   912.686000      1037.120000      0.0      0.0  \n",
       "50%       2285.928000  1381.275000      1742.215000      0.0      0.0  \n",
       "75%       3660.837000  2021.813000      3156.599000      0.0      0.0  \n",
       "max       9640.216000  9614.616000      6995.640000      0.0      0.0  \n",
       "\n",
       "[8 rows x 44 columns]"
      ]
     },
     "execution_count": 17,
     "metadata": {},
     "output_type": "execute_result"
    }
   ],
   "source": [
    "gdf10.describe()"
   ]
  },
  {
   "cell_type": "code",
   "execution_count": 18,
   "id": "4a07fb42",
   "metadata": {},
   "outputs": [],
   "source": [
    "gdf10.to_csv(r'gdf10.csv', index=False)"
   ]
  },
  {
   "cell_type": "code",
   "execution_count": 19,
   "id": "b37aade7",
   "metadata": {},
   "outputs": [
    {
     "data": {
      "text/plain": [
       "<AxesSubplot:>"
      ]
     },
     "execution_count": 19,
     "metadata": {},
     "output_type": "execute_result"
    },
    {
     "data": {
      "image/png": "[encoded data removed]",
      "text/plain": [
       "<Figure size 432x288 with 1 Axes>"
      ]
     },
     "metadata": {
      "needs_background": "light"
     },
     "output_type": "display_data"
    }
   ],
   "source": [
    "gdf10.plot()"
   ]
  },
  {
   "cell_type": "code",
   "execution_count": null,
   "id": "2f4df3df",
   "metadata": {},
   "outputs": [],
   "source": []
  },
  {
   "cell_type": "code",
   "execution_count": null,
   "id": "ca09c052",
   "metadata": {},
   "outputs": [],
   "source": []
  },
  {
   "cell_type": "code",
   "execution_count": null,
   "id": "3927da0b",
   "metadata": {},
   "outputs": [],
   "source": []
  },
  {
   "cell_type": "code",
   "execution_count": null,
   "id": "cab93cda",
   "metadata": {},
   "outputs": [],
   "source": []
  },
  {
   "cell_type": "code",
   "execution_count": null,
   "id": "9d708c73",
   "metadata": {},
   "outputs": [],
   "source": []
  }
 ],
 "metadata": {
  "kernelspec": {
   "display_name": "Python 3 (ipykernel)",
   "language": "python",
   "name": "python3"
  },
  "language_info": {
   "codemirror_mode": {
    "name": "ipython",
    "version": 3
   },
   "file_extension": ".py",
   "mimetype": "text/x-python",
   "name": "python",
   "nbconvert_exporter": "python",
   "pygments_lexer": "ipython3",
   "version": "3.8.10"
  }
 },
 "nbformat": 4,
 "nbformat_minor": 5
}
